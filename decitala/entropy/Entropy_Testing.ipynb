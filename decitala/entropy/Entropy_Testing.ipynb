{
 "cells": [
  {
   "cell_type": "markdown",
   "metadata": {},
   "source": [
    "## Testing shannon entropy levels in measures with deçi-tâlas\n",
    "\n",
    "I'm exploring ways to make search more efficient. Because talas are augmented inexactly, the ql values, particularly unstripped, are more... \"odd.\" If we compute shannon entropy on measures with talas, how do these levels compare to measures/parts without talas. I'll try this on *Liturgie* first. For a cool visualization, will try and use matplotlib color maps. "
   ]
  },
  {
   "cell_type": "code",
   "execution_count": 61,
   "metadata": {},
   "outputs": [],
   "source": [
    "import matplotlib.pyplot as plt\n",
    "import numpy as np\n",
    "\n",
    "from scipy.stats import entropy\n",
    "from music21 import chord\n",
    "from music21 import converter\n",
    "from music21 import note\n",
    "from music21 import stream"
   ]
  },
  {
   "cell_type": "code",
   "execution_count": 2,
   "metadata": {},
   "outputs": [
    {
     "name": "stdout",
     "output_type": "stream",
     "text": [
      "1.0114042647073518\n"
     ]
    }
   ],
   "source": [
    "l = [1, 2, 3]\n",
    "print(entropy(l))"
   ]
  },
  {
   "cell_type": "code",
   "execution_count": 14,
   "metadata": {},
   "outputs": [
    {
     "name": "stdout",
     "output_type": "stream",
     "text": [
      "<music21.stream.Part Violin>\n",
      "<music21.stream.Part Clarinet in Bb>\n",
      "<music21.stream.Part Violoncello>\n",
      "<music21.stream.PartStaff P4-Staff1>\n",
      "<music21.stream.PartStaff P4-Staff2>\n"
     ]
    }
   ],
   "source": [
    "liturgie = '/Users/lukepoeppel/Dropbox/Luke_Myke/Messiaen_Qt/Messiaen_I_Liturgie/Messiaen_I_Liturgie_de_cristal_CORRECTED.mxl'\n",
    "c = converter.parse(liturgie)\n",
    "for this_part in c.parts:\n",
    "    print(this_part)"
   ]
  },
  {
   "cell_type": "code",
   "execution_count": 57,
   "metadata": {},
   "outputs": [
    {
     "name": "stdout",
     "output_type": "stream",
     "text": [
      "[[1.0], [1.0, 1.0, 0.5, 0.5], [0.25, 0.5, 0.25, 0.25, 0.5, 0.25, 0.25, 0.75], [0.75, 0.25, 0.5, 0.25, 0.25, 0.25, 0.75], [1.0, 2.0], [1.0, 1.0, 1.0], [0.5, 0.5, 0.25, 0.5, 0.25, 0.25, 0.5, 0.25], [0.25, 0.75, 0.75, 0.25, 0.5, 0.25, 0.25], [0.25, 0.75, 1.0, 1.0], [1.0, 1.0, 1.0], [1.0, 0.5, 0.5, 0.25, 0.5, 0.25], [0.25, 0.5, 0.25, 0.25, 0.75, 0.75, 0.25], [0.5, 0.25, 0.25, 0.25, 0.75, 1.0], [2.0, 1.0], [1.0, 1.0, 0.5, 0.5], [0.25, 0.5, 0.25, 0.25, 0.5, 0.25, 0.25, 0.75], [0.75, 0.25, 0.5, 0.25, 0.25, 0.25, 0.75], [1.0, 2.0], [1.0, 1.0, 1.0], [0.5, 0.5, 0.25, 0.5, 0.25, 0.25, 0.5, 0.25], [0.25, 0.75, 0.75, 0.25, 0.5, 0.25, 0.25], [0.25, 0.75, 1.0, 1.0], [1.0, 1.0, 1.0], [1.0, 0.5, 0.5, 0.25, 0.5, 0.25], [0.25, 0.5, 0.25, 0.25, 0.75, 0.75, 0.25], [0.5, 0.25, 0.25, 0.25, 0.75, 1.0], [2.0, 1.0], [1.0, 1.0, 0.5, 0.5], [0.25, 0.5, 0.25, 0.25, 0.5, 0.25, 0.25, 0.75], [0.75, 0.25, 0.5, 0.25, 0.25, 0.25, 0.75], [1.0, 2.0], [1.0, 1.0, 1.0], [0.5, 0.5, 0.25, 0.5, 0.25, 0.25, 0.5, 0.25], [0.25, 0.75, 0.75, 0.25, 0.5, 0.25, 0.25], [0.25, 0.75, 1.0, 1.0], [1.0, 1.0, 1.0], [1.0, 0.5, 0.5, 0.25, 0.5, 0.25], [0.25, 0.5, 0.25, 0.25, 0.75, 0.75, 0.25], [0.5, 0.25, 0.25, 0.25, 0.75, 1.0], [2.0, 1.0], [1.0, 1.0, 0.5, 0.5], [0.25, 0.5, 0.25, 0.25, 0.5, 0.25, 0.25, 0.75], [0.75, 0.25, 0.5, 0.25, 0.25, 1.0]]\n"
     ]
    }
   ],
   "source": [
    "def measure_qls(part_num):\n",
    "    all_ql = []\n",
    "    for this_measure in c.parts[part_num].getElementsByClass(stream.Measure):\n",
    "        this_measure_ql = []\n",
    "        for this_note in this_measure.flat.notes: # filters all except notes and chord\n",
    "            pre = this_note.quarterLength\n",
    "            if type(pre) == Fraction:\n",
    "                post = float(pre)\n",
    "                this_measure_ql.append(post)\n",
    "            else:\n",
    "                this_measure_ql.append(pre)\n",
    "        \n",
    "        all_ql.append(this_measure_ql)\n",
    "    \n",
    "    return all_ql\n",
    "\n",
    "print(measure_qls(3))"
   ]
  },
  {
   "cell_type": "code",
   "execution_count": 43,
   "metadata": {},
   "outputs": [
    {
     "name": "stdout",
     "output_type": "stream",
     "text": [
      "[1.791759469228055, 2.2450486785036894, 1.6094379124341005, 2.0434812826233633, 1.945910149055313, 1.9072839993213793, 1.7478680974667573, 2.1383330595080277, 1.0986122886681098, 2.2167680777633496, 1.5810937501718234, 2.0228085294147036, 2.668008697899352, 1.7524984573425937, 1.7328679513998633, 1.2141368187614339, 1.3321790402101223, 2.5126585295298014, 2.0228085294147036, 1.791759469228055, 1.549129075454959, 0.0, 1.3296613488547582, 0.639031859650177, 1.7351264569629226, 1.0397207708399179, 1.966175517149571, 1.9214422523876626, 2.576457673843677, 2.484906649788001, 2.484906649788001, 1.3579778549873243, 1.0114042647073518, 1.5498260458782016, 2.0228085294147036, 2.6499850656133153, 3.1780538303479453, 2.5070264355574188, 0.0, 1.7481554572476763, 1.9748615173394064, 0.0, 0.6931471805599453]\n"
     ]
    }
   ],
   "source": [
    "def measure_by_measure_entropy(part_num):\n",
    "    qls = measure_qls(part_num)\n",
    "    measure_entropy = []\n",
    "    for this_measure in qls:\n",
    "        measure_entropy.append(entropy(this_measure))\n",
    "    \n",
    "    return measure_entropy\n",
    "\n",
    "print(measure_by_measure_entropy(1))"
   ]
  },
  {
   "cell_type": "code",
   "execution_count": 47,
   "metadata": {},
   "outputs": [
    {
     "name": "stdout",
     "output_type": "stream",
     "text": [
      "1.7161657494027331\n"
     ]
    }
   ],
   "source": [
    "def average_part_entropy(part_num):\n",
    "    all_entropy = measure_by_measure_entropy(part_num)\n",
    "    return np.mean(all_entropy)\n",
    "\n",
    "print(average_part_entropy(1))"
   ]
  },
  {
   "cell_type": "code",
   "execution_count": 58,
   "metadata": {},
   "outputs": [
    {
     "name": "stdout",
     "output_type": "stream",
     "text": [
      "<music21.stream.Part Violin> 1.5792293691254369\n",
      "<music21.stream.Part Clarinet in Bb> 1.7161657494027331\n",
      "<music21.stream.Part Violoncello> 1.115127897014091\n",
      "<music21.stream.PartStaff P4-Staff1> 1.4305286537225188\n",
      "<music21.stream.PartStaff P4-Staff2> 1.4305286537225188\n"
     ]
    }
   ],
   "source": [
    "for i, this_part in enumerate(c.parts):\n",
    "    print(this_part, average_part_entropy(i))"
   ]
  },
  {
   "cell_type": "code",
   "execution_count": 67,
   "metadata": {},
   "outputs": [
    {
     "data": {
      "image/png": "[encoded data removed]",
      "text/plain": [
       "<Figure size 460.8x86.688 with 3 Axes>"
      ]
     },
     "metadata": {
      "image/png": {
       "height": 98,
       "width": 406
      }
     },
     "output_type": "display_data"
    }
   ],
   "source": [
    "cmaps = [('Qualitative', [\n",
    "            'Set1', 'Set2', 'Set3'])]\n",
    "\n",
    "gradient = np.linspace(0, 1, 256)\n",
    "gradient = np.vstack((gradient, gradient))\n",
    "\n",
    "def plot_color_map(cmap_category, cmap_list):\n",
    "    # Create figure and adjust figure height to number of colormaps\n",
    "    nrows = len(cmap_list)\n",
    "    figh = 0.35 + 0.15 + (nrows + (nrows-1)*0.1)*0.22\n",
    "    fig, axes = plt.subplots(nrows=nrows, figsize=(6.4, figh))\n",
    "    fig.subplots_adjust(top=1-.35/figh, bottom=.15/figh, left=0.2, right=0.99)\n",
    "\n",
    "    axes[0].set_title(cmap_category + ' colormaps', fontsize=14)\n",
    "\n",
    "    for ax, name in zip(axes, cmap_list):\n",
    "        ax.imshow(gradient, aspect='auto', cmap=plt.get_cmap(name))\n",
    "        ax.text(-.01, .5, name, va='center', ha='right', fontsize=10,\n",
    "                transform=ax.transAxes)\n",
    "\n",
    "    # Turn off *all* ticks & spines, not just the ones with colormaps.\n",
    "    for ax in axes:\n",
    "        ax.set_axis_off()\n",
    "\n",
    "\n",
    "for cmap_category, cmap_list in cmaps:\n",
    "    plot_color_gradients(cmap_category, cmap_list)\n",
    "\n",
    "plt.show()"
   ]
  },
  {
   "cell_type": "markdown",
   "metadata": {},
   "source": [
    "### Instead of tracking part average by measure, could track by window of length equal to the average tala length (or, likely better, ql_duration) either in the dataset or in Messiaen own's use."
   ]
  },
  {
   "cell_type": "code",
   "execution_count": null,
   "metadata": {},
   "outputs": [],
   "source": []
  }
 ],
 "metadata": {
  "kernelspec": {
   "display_name": "Python 3",
   "language": "python",
   "name": "python3"
  },
  "language_info": {
   "codemirror_mode": {
    "name": "ipython",
    "version": 3
   },
   "file_extension": ".py",
   "mimetype": "text/x-python",
   "name": "python",
   "nbconvert_exporter": "python",
   "pygments_lexer": "ipython3",
   "version": "3.7.7"
  }
 },
 "nbformat": 4,
 "nbformat_minor": 2
}
